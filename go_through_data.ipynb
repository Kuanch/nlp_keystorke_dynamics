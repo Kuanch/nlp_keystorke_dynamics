{
 "cells": [
  {
   "cell_type": "code",
   "execution_count": 1,
   "metadata": {},
   "outputs": [],
   "source": [
    "import torch\n",
    "import numpy as np\n",
    "import pandas as pd"
   ]
  },
  {
   "cell_type": "code",
   "execution_count": 2,
   "metadata": {},
   "outputs": [],
   "source": [
    "data = pd.read_csv('DSL-StrongPasswordData.csv')"
   ]
  },
  {
   "cell_type": "code",
   "execution_count": 3,
   "metadata": {},
   "outputs": [
    {
     "data": {
      "text/plain": [
       "(20400, 34)"
      ]
     },
     "execution_count": 3,
     "metadata": {},
     "output_type": "execute_result"
    }
   ],
   "source": [
    "# 51 subjects, 400 times type, 34 feature\n",
    "data.shape"
   ]
  },
  {
   "cell_type": "code",
   "execution_count": 4,
   "metadata": {},
   "outputs": [
    {
     "data": {
      "text/plain": [
       "subject              s002\n",
       "sessionIndex            1\n",
       "rep                     1\n",
       "H.period           0.1491\n",
       "DD.period.t        0.3979\n",
       "UD.period.t        0.2488\n",
       "H.t                0.1069\n",
       "DD.t.i             0.1674\n",
       "UD.t.i             0.0605\n",
       "H.i                0.1169\n",
       "DD.i.e             0.2212\n",
       "UD.i.e             0.1043\n",
       "H.e                0.1417\n",
       "DD.e.five          1.1885\n",
       "UD.e.five          1.0468\n",
       "H.five             0.1146\n",
       "DD.five.Shift.r    1.6055\n",
       "UD.five.Shift.r    1.4909\n",
       "H.Shift.r          0.1067\n",
       "DD.Shift.r.o        0.759\n",
       "UD.Shift.r.o       0.6523\n",
       "H.o                0.1016\n",
       "DD.o.a             0.2136\n",
       "UD.o.a              0.112\n",
       "H.a                0.1349\n",
       "DD.a.n             0.1484\n",
       "UD.a.n             0.0135\n",
       "H.n                0.0932\n",
       "DD.n.l             0.3515\n",
       "UD.n.l             0.2583\n",
       "H.l                0.1338\n",
       "DD.l.Return        0.3509\n",
       "UD.l.Return        0.2171\n",
       "H.Return           0.0742\n",
       "Name: 0, dtype: object"
      ]
     },
     "execution_count": 4,
     "metadata": {},
     "output_type": "execute_result"
    }
   ],
   "source": [
    "data.iloc[0]"
   ]
  },
  {
   "cell_type": "code",
   "execution_count": 5,
   "metadata": {},
   "outputs": [
    {
     "data": {
      "text/plain": [
       "(1, 8, 1, 50)"
      ]
     },
     "execution_count": 5,
     "metadata": {},
     "output_type": "execute_result"
    }
   ],
   "source": [
    "# 8 session * 50 repetition = 400 times\n",
    "min(data.sessionIndex), max(data.sessionIndex), min(data.rep), max(data.rep)"
   ]
  },
  {
   "cell_type": "code",
   "execution_count": 6,
   "metadata": {},
   "outputs": [
    {
     "data": {
      "text/plain": [
       "(0.1491, 0.3979, 0.2488)"
      ]
     },
     "execution_count": 6,
     "metadata": {},
     "output_type": "execute_result"
    }
   ],
   "source": [
    "# the target is \".tie5Roanl\", len = 10, 34 = 3 + 10 * 3 + 1(H.Return)\n",
    "# hold time, keydown-keydown time, a keyup-keydown\n",
    "data.iloc[0]['H.period'], data.iloc[0]['DD.period.t'], data.iloc[0]['UD.period.t']\n",
    "# data.iloc[0]['H.t'], data.iloc[0]['DD.t.i'], data.iloc[0]['UD.t.i']\n",
    "# data.iloc[0]['H.i'], data.iloc[0]['DD.i.e'], data.iloc[0]['UD.i.e']"
   ]
  },
  {
   "cell_type": "code",
   "execution_count": 7,
   "metadata": {},
   "outputs": [
    {
     "data": {
      "text/plain": [
       "({'s002': 400,\n",
       "  's003': 400,\n",
       "  's004': 400,\n",
       "  's005': 400,\n",
       "  's007': 400,\n",
       "  's008': 400,\n",
       "  's010': 400,\n",
       "  's011': 400,\n",
       "  's012': 400,\n",
       "  's013': 400,\n",
       "  's015': 400,\n",
       "  's016': 400,\n",
       "  's017': 400,\n",
       "  's018': 400,\n",
       "  's019': 400,\n",
       "  's020': 400,\n",
       "  's021': 400,\n",
       "  's022': 400,\n",
       "  's024': 400,\n",
       "  's025': 400,\n",
       "  's026': 400,\n",
       "  's027': 400,\n",
       "  's028': 400,\n",
       "  's029': 400,\n",
       "  's030': 400,\n",
       "  's031': 400,\n",
       "  's032': 400,\n",
       "  's033': 400,\n",
       "  's034': 400,\n",
       "  's035': 400,\n",
       "  's036': 400,\n",
       "  's037': 400,\n",
       "  's038': 400,\n",
       "  's039': 400,\n",
       "  's040': 400,\n",
       "  's041': 400,\n",
       "  's042': 400,\n",
       "  's043': 400,\n",
       "  's044': 400,\n",
       "  's046': 400,\n",
       "  's047': 400,\n",
       "  's048': 400,\n",
       "  's049': 400,\n",
       "  's050': 400,\n",
       "  's051': 400,\n",
       "  's052': 400,\n",
       "  's053': 400,\n",
       "  's054': 400,\n",
       "  's055': 400,\n",
       "  's056': 400,\n",
       "  's057': 400},\n",
       " 51)"
      ]
     },
     "execution_count": 7,
     "metadata": {},
     "output_type": "execute_result"
    }
   ],
   "source": [
    "num_sub = {}\n",
    "for s in data.subject:\n",
    "    if s in num_sub:\n",
    "        num_sub[s] += 1\n",
    "    else:\n",
    "        num_sub[s] = 1\n",
    "num_sub, len(num_sub)"
   ]
  },
  {
   "cell_type": "code",
   "execution_count": 8,
   "metadata": {},
   "outputs": [
    {
     "data": {
      "text/plain": [
       "((20400,), (20400, 31))"
      ]
     },
     "execution_count": 8,
     "metadata": {},
     "output_type": "execute_result"
    }
   ],
   "source": [
    "# assert all(data.iloc[:400].subject == 's002') == True\n",
    "from itertools import chain, repeat\n",
    "label = pd.Series(list(chain.from_iterable(zip(*repeat(list(range(51)), 400)))), dtype=np.int8, name='typist')\n",
    "training = data.iloc[:, 3:]\n",
    "label.shape, training.shape"
   ]
  },
  {
   "cell_type": "code",
   "execution_count": 9,
   "metadata": {},
   "outputs": [],
   "source": [
    "letter_interval = None\n",
    "for i in range(data.shape[1]):\n",
    "    if data.iloc[:, i].name.startswith('DD'):\n",
    "        if letter_interval is None:\n",
    "            letter_interval = data.iloc[:, i]\n",
    "        else:\n",
    "            letter_interval += data.iloc[:, i]"
   ]
  },
  {
   "cell_type": "code",
   "execution_count": 10,
   "metadata": {},
   "outputs": [
    {
     "data": {
      "text/plain": [
       "((20400,),\n",
       " 0    5.4039\n",
       " 1    4.3400\n",
       " 2    3.9526\n",
       " 3    4.6450\n",
       " 4    3.9389\n",
       " Name: DD.period.t, dtype: float64)"
      ]
     },
     "execution_count": 10,
     "metadata": {},
     "output_type": "execute_result"
    }
   ],
   "source": [
    "# sum of letter interval per row\n",
    "letter_interval.shape, letter_interval[:5]"
   ]
  },
  {
   "cell_type": "code",
   "execution_count": 11,
   "metadata": {},
   "outputs": [
    {
     "data": {
      "text/plain": [
       "array([0.06534751, 0.19385331, 0.47634667, 0.41403097, 0.3257616 ,\n",
       "       0.25346375, 0.35878273, 0.37568023, 0.29284515, 0.07122863])"
      ]
     },
     "execution_count": 11,
     "metadata": {},
     "output_type": "execute_result"
    }
   ],
   "source": [
    "np.random.uniform(0, 0.5, 10)"
   ]
  },
  {
   "cell_type": "code",
   "execution_count": 12,
   "metadata": {},
   "outputs": [],
   "source": [
    "submit_interval = np.random.uniform(0, 0.5, 20400)\n",
    "any_space_intervals = np.random.uniform(0, 0.5, 20400)\n",
    "space_any_intervals = np.random.uniform(0, 0.6, 20400)\n",
    "any_delete_intervals = np.random.uniform(0.2, 0.7, 20400)"
   ]
  },
  {
   "cell_type": "code",
   "execution_count": 13,
   "metadata": {},
   "outputs": [],
   "source": [
    "chars = \".tie5Roanl\"\n",
    "num_error = np.apply_along_axis(np.int8, arr=np.random.gamma(0.3, 2, 10), axis=0)\n",
    "error_chars = [np.random.choice(list(chars), n) for n in num_error]"
   ]
  },
  {
   "cell_type": "code",
   "execution_count": 14,
   "metadata": {},
   "outputs": [
    {
     "data": {
      "text/plain": [
       "(array([1, 0, 0, 1, 0, 0, 0, 0, 0, 0], dtype=int8),\n",
       " [array(['l'], dtype='<U1'),\n",
       "  array([], dtype='<U1'),\n",
       "  array([], dtype='<U1'),\n",
       "  array(['o'], dtype='<U1'),\n",
       "  array([], dtype='<U1'),\n",
       "  array([], dtype='<U1'),\n",
       "  array([], dtype='<U1'),\n",
       "  array([], dtype='<U1'),\n",
       "  array([], dtype='<U1'),\n",
       "  array([], dtype='<U1')])"
      ]
     },
     "execution_count": 14,
     "metadata": {},
     "output_type": "execute_result"
    }
   ],
   "source": [
    "num_error, error_chars"
   ]
  },
  {
   "cell_type": "code",
   "execution_count": null,
   "metadata": {},
   "outputs": [],
   "source": []
  }
 ],
 "metadata": {
  "kernelspec": {
   "display_name": "Python 3",
   "language": "python",
   "name": "python3"
  },
  "language_info": {
   "codemirror_mode": {
    "name": "ipython",
    "version": 3
   },
   "file_extension": ".py",
   "mimetype": "text/x-python",
   "name": "python",
   "nbconvert_exporter": "python",
   "pygments_lexer": "ipython3",
   "version": "3.6.9"
  }
 },
 "nbformat": 4,
 "nbformat_minor": 4
}
